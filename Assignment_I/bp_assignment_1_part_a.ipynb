{
 "cells": [
  {
   "cell_type": "markdown",
   "metadata": {},
   "source": [
    "# DSME Bonus Point Assignment I Part A\n",
    "<div style=\"text-align: right;font-size: 0.8em\">Document Version 1.0.0, released 2020-12-11</div>\n",
    "For task instructions, refer to the assignment PDF.\n",
    "\n",
    "* The parts of the code you are to implement are indicated via `# TODO` comments.\n",
    "* You can use the `# Test code` cells to verify your implementation. However note that these are not the unit tests used for grading.\n",
    "* Some cells create export file in the `solution/` folder. _Include whole `solution/` folder in your submission_.\n",
    "* DO NOT CLEAR THE OUTPUT of the notebook you are submitting!"
   ]
  },
  {
   "cell_type": "code",
   "execution_count": 4,
   "metadata": {},
   "outputs": [],
   "source": [
    "# General imports\n",
    "from pathlib import Path\n",
    "import pickle\n",
    "import numpy as np\n",
    "import matplotlib.pyplot as plt\n",
    "from tqdm.auto import tqdm\n",
    "\n",
    "# Create solution folder\n",
    "Path(\"solution/\").mkdir(exist_ok=True)"
   ]
  },
  {
   "cell_type": "markdown",
   "metadata": {},
   "source": [
    "## Question A1 - Neural Network Class\n",
    "In this task you will implement the building blocks of a simple neural network class.\n",
    "\n",
    "For simplicity's sake, this class will only allow feed forward networks.\n",
    "All individual operations, including activation functions, will be represented as layers in this model.\n",
    "The abstract `Layer` interface defines three methods:"
   ]
  },
  {
   "cell_type": "code",
   "execution_count": 5,
   "metadata": {},
   "outputs": [],
   "source": [
    "class Layer:\n",
    "    def forward(self, x):\n",
    "        \"\"\"Forward pass of the layer.\n",
    "        For convenience, input and output are stored in the layer. \n",
    "\n",
    "        Args:\n",
    "            x: Input for this layer. Shape is (batch_size, num_inputs).\n",
    "\n",
    "        Returns:\n",
    "            x: Output of this layer. Shape is (batch_size, num_outputs).\n",
    "        \"\"\"\n",
    "        raise NotImplementedError\n",
    "\n",
    "    def backward(self, gradient):\n",
    "        \"\"\"Backward pass of the layer.\n",
    "        The incoming gradients are stored in the layer. \n",
    "\n",
    "        Args:\n",
    "            gradient: Incoming gradient from the next layer. Shape is (batch_size, num_outputs).\n",
    "\n",
    "        Returns:\n",
    "            gradient: Gradient passed to previous layer. Shape is (batch_size, num_inputs).\n",
    "        \"\"\"\n",
    "        raise NotImplementedError\n",
    "\n",
    "    def update(self, learn_rate):\n",
    "        \"\"\"Perform weight update based on previously stored input and gradients.\n",
    "\n",
    "        Args:\n",
    "            learn_rate: Learn rate to use for the update.\n",
    "        \"\"\""
   ]
  },
  {
   "cell_type": "markdown",
   "metadata": {},
   "source": [
    "### a) Linear Layer"
   ]
  },
  {
   "cell_type": "code",
   "execution_count": 6,
   "metadata": {},
   "outputs": [],
   "source": [
    "class LinearLayer(Layer):\n",
    "    def __init__(self, input_dim, output_dim, seed=None):\n",
    "        \"\"\"Initialize the layer with random weights.\"\"\"\n",
    "        # Initialize weights with the He initializer\n",
    "        rnd = np.random.RandomState(seed).randn(input_dim, output_dim)\n",
    "        self.w = rnd * (2 / input_dim) \n",
    "        \n",
    "        # Initialize bias with zeros\n",
    "        self.b = np.zeros(output_dim)\n",
    "        \n",
    "        \n",
    "    def forward(self, x):\n",
    "        \"\"\"Forward pass of the layer.\"\"\"\n",
    "        self.input = x # Store input\n",
    "           \n",
    "        # ********************\n",
    "        # TODO Compute output\n",
    "        # x = ...\n",
    "        \n",
    "        x = np.matmul(x,self.w)+self.b\n",
    "        \n",
    "        # ********************\n",
    "        \n",
    "        self.output = x # Store output\n",
    "        return x\n",
    "    \n",
    "    def backward(self, gradient):\n",
    "        \"\"\"Backward pass of the layer.\"\"\"\n",
    "        self.gradient = gradient # Store incoming gradient\n",
    "        \n",
    "        # ********************\n",
    "        # TODO Apply transfer gradient\n",
    "        # gradient = ...\n",
    "        gradient = gradient @ np.transpose(self.w)\n",
    "        \n",
    "        # ********************\n",
    "        \n",
    "        return gradient\n",
    "    \n",
    "    def update(self, learn_rate): #gradient hinzugefügt\n",
    "        \"\"\"Perform weight update\"\"\"\n",
    "        \n",
    "        # ********************\n",
    "        # TODO Update weights and bias\n",
    "        # self.W = ...\n",
    "        # self.b = ...\n",
    "\n",
    "        self.w = self.w - learn_rate * (np.transpose(self.input) @ self.gradient)\n",
    "        self.b = self.b - learn_rate * np.sum(self.gradient, axis = 0)\n",
    "        \n",
    "        # ********************"
   ]
  },
  {
   "cell_type": "code",
   "execution_count": 7,
   "metadata": {},
   "outputs": [
    {
     "data": {
      "text/plain": [
       "'ok'"
      ]
     },
     "execution_count": 7,
     "metadata": {},
     "output_type": "execute_result"
    }
   ],
   "source": [
    "## Test code\n",
    "_test_layer = LinearLayer(4, 5, seed=42)\n",
    "\n",
    "# Test forward pass\n",
    "np.testing.assert_array_almost_equal(_test_layer.forward(np.ones((1, 4))), [[-0.38156401, -0.01880618,  0.98566644, -0.88387442, -1.41440743]])\n",
    "\n",
    "# Test backward pass\n",
    "np.testing.assert_array_almost_equal(_test_layer.backward(np.ones((1, 5))), [[1.147507,  1.092798, -2.162692, -1.7906 ]])\n",
    "\n",
    "# Test update\n",
    "_test_layer.update(0.1)\n",
    "np.testing.assert_array_almost_equal(_test_layer.w, [[ 0.148357, -0.169132,  0.223844,  0.661515, -0.217077], [-0.217068,  0.689606,  0.283717, -0.334737,  0.17128 ], [-0.331709, -0.332865,  0.020981, -1.05664 , -0.962459], [-0.381144, -0.606416,  0.057124, -0.554012, -0.806152]])\n",
    "np.testing.assert_array_almost_equal(_test_layer.b, [-0.1, -0.1, -0.1, -0.1, -0.1])\n",
    "\"ok\""
   ]
  },
  {
   "cell_type": "markdown",
   "metadata": {},
   "source": [
    "### b) Implementing ReLU"
   ]
  },
  {
   "cell_type": "code",
   "execution_count": 8,
   "metadata": {},
   "outputs": [],
   "source": [
    "class ReLULayer(Layer):      \n",
    "    def forward(self, x):\n",
    "        \"\"\"Forward pass of the ReLU layer.\"\"\"\n",
    "        self.input = x # Store input\n",
    "        \n",
    "        # ********************\n",
    "        # TODO Compute output\n",
    "        # x = ...\n",
    "        \n",
    "        x = np.where(x>0,x,0)\n",
    "        \n",
    "        # ********************\n",
    "        \n",
    "        self.output = x # Store output\n",
    "        return x\n",
    "    \n",
    "    def backward(self, gradient):\n",
    "        \"\"\"Backward pass of the ReLU layer.\"\"\"\n",
    "        self.gradient = gradient # Store incoming gradient\n",
    "        \n",
    "        # ********************\n",
    "        # TODO Apply transfer gradient\n",
    "        # gradient = ...\n",
    "        \n",
    "        gradient = np.where(self.input>0,gradient,0)\n",
    "             \n",
    "        # ********************\n",
    "      \n",
    "        return gradient\n",
    "    "
   ]
  },
  {
   "cell_type": "code",
   "execution_count": 9,
   "metadata": {},
   "outputs": [
    {
     "data": {
      "text/plain": [
       "'ok'"
      ]
     },
     "execution_count": 9,
     "metadata": {},
     "output_type": "execute_result"
    }
   ],
   "source": [
    "# Test Code\n",
    "_test_layer = ReLULayer()\n",
    "\n",
    "# Test forward pass\n",
    "np.testing.assert_array_almost_equal(_test_layer.forward(np.arange(5)-2), [0, 0,  0, 1, 2])\n",
    "\n",
    "# Test backward pass\n",
    "assert np.array_equal(_test_layer.backward(np.ones(5)), [0, 0, 0, 1, 1]) or np.array_equal(_test_layer.backward(np.ones(5)), [0, 0, 1, 1, 1]), f\"backward expected {[0, 0, 1, 1, 1]} or {[0, 0, 0, 1, 1]}, but got {_test_layer.backward(np.ones(5))}\"\n",
    "\n",
    "\"ok\""
   ]
  },
  {
   "cell_type": "markdown",
   "metadata": {},
   "source": [
    "### c) Softmax Layer"
   ]
  },
  {
   "cell_type": "code",
   "execution_count": 97,
   "metadata": {},
   "outputs": [],
   "source": [
    "from typing import List\n",
    "\n",
    "\n",
    "class SoftmaxLayer(Layer):      \n",
    "    def forward(self, x):\n",
    "        \"\"\"Forward pass of the softmax layer.\"\"\"\n",
    "        self.input = x # Store input\n",
    "        \n",
    "        # ********************\n",
    "        # TODO Compute output\n",
    "        # x = ...\n",
    "\n",
    "        if type(x) == list:\n",
    "        \n",
    "            x = (np.exp(x))/(np.sum(np.exp(x)))\n",
    "            x_sum = np.sum(x)\n",
    "            x_nan = np.isnan(x_sum)\n",
    "\n",
    "            if x_nan == False:\n",
    "                self.output = x\n",
    "                return x\n",
    "            else:\n",
    "                self.input = [x - max(self.input) for x in self.input] # https://jamesmccaffrey.wordpress.com/2016/03/04/the-max-trick-when-computing-softmax/\n",
    "                x = (np.exp(self.input))/(np.sum(np.exp(self.input)))\n",
    "                x = np.nan_to_num(x, nan=1)\n",
    "                self.output = x\n",
    "                return x\n",
    "        \n",
    "        if type(x) == np.ndarray:\n",
    "\n",
    "            x = (np.exp(x))/(np.sum(np.exp(x)))\n",
    "            x_sum = np.sum(x)\n",
    "            x_nan = np.isnan(x_sum)\n",
    "\n",
    "            if x_nan == False:\n",
    "                self.output = x\n",
    "                return x\n",
    "            else:\n",
    "                self.input = self.input - self.input.max() # https://jamesmccaffrey.wordpress.com/2016/03/04/the-max-trick-when-computing-softmax/\n",
    "                x = (np.exp(self.input))/(np.sum(np.exp(self.input)))\n",
    "                x = np.nan_to_num(x, nan=1)\n",
    "                self.output = x\n",
    "                return x\n",
    "\n",
    "        \n",
    "        # ********************"
   ]
  },
  {
   "cell_type": "code",
   "execution_count": 103,
   "metadata": {},
   "outputs": [
    {
     "name": "stdout",
     "output_type": "stream",
     "text": [
      "[[0.0624652  0.05733553 0.10664408 0.10933068]\n",
      " [0.09105667 0.08911853 0.11810281 0.10406036]\n",
      " [0.05837914 0.05660079 0.07530398 0.07160223]]\n"
     ]
    },
    {
     "name": "stderr",
     "output_type": "stream",
     "text": [
      "<ipython-input-97-c26ff82a365e>:15: RuntimeWarning: overflow encountered in exp\n",
      "  x = (np.exp(x))/(np.sum(np.exp(x)))\n",
      "<ipython-input-97-c26ff82a365e>:15: RuntimeWarning: invalid value encountered in true_divide\n",
      "  x = (np.exp(x))/(np.sum(np.exp(x)))\n"
     ]
    },
    {
     "data": {
      "text/plain": [
       "'ok'"
      ]
     },
     "execution_count": 103,
     "metadata": {},
     "output_type": "execute_result"
    }
   ],
   "source": [
    "# Test code\n",
    "_test_layer = SoftmaxLayer()\n",
    "\n",
    "# Test forward pass\n",
    "np.testing.assert_array_almost_equal(_test_layer.forward([[1, 1]]), [[0.5, 0.5]])\n",
    "np.testing.assert_array_almost_equal(_test_layer.forward([1, 2, 3]), [0.09003057, 0.24472847, 0.66524096])\n",
    "np.testing.assert_array_almost_equal(_test_layer.forward([0, 1, 2]), [0.09003057, 0.24472847, 0.66524096])\n",
    "np.testing.assert_array_almost_equal(_test_layer.forward([0]), [1])\n",
    "np.testing.assert_array_almost_equal(_test_layer.forward([0, 10, 100, 1e6]), [0, 0, 0, 1], err_msg=\"Overflow\")\n",
    "\n",
    "\"ok\""
   ]
  },
  {
   "cell_type": "markdown",
   "metadata": {},
   "source": [
    "### Side Note\n",
    "The assignment was evaluated with another script where numpy arrays where used for the validation. \n",
    "Here the formulation of the trick described in the blog have to be formulated different, which is also relevant for the training. Therefore, \n",
    "the two different approaches in the code. "
   ]
  },
  {
   "cell_type": "markdown",
   "metadata": {},
   "source": [
    "### d) Completing the Network"
   ]
  },
  {
   "cell_type": "markdown",
   "metadata": {},
   "source": [
    "#Die Batch-Size soll im ForwardFeed nicht berücksichtigt werden, daher kommt ein Dimensionsfehler???"
   ]
  },
  {
   "cell_type": "code",
   "execution_count": 104,
   "metadata": {},
   "outputs": [],
   "source": [
    "class FeedForwardNet:\n",
    "    def __init__(self, layers):\n",
    "        self.layers = layers\n",
    "    \n",
    "    def forward(self, x):\n",
    "        \"\"\"Forwar pass through the entire network.\"\"\"\n",
    "        # ********************\n",
    "        # TODO Compute output\n",
    "        # x = ...\n",
    "               \n",
    "        for layer in self.layers:\n",
    "            x = layer.forward(x)\n",
    "       \n",
    "        # ********************\n",
    "        return x\n",
    "    \n",
    "    def backward(self, gradient):\n",
    "        \"\"\"Backward pass through the entire network.\"\"\"\n",
    "        # ********************\n",
    "        # TODO Back propagate gradients through all layers\n",
    "               \n",
    "        for layer in reversed(self.layers):\n",
    "            gradient = layer.backward(gradient)\n",
    "\n",
    "        # ********************\n",
    "\n",
    "    def train(self, x, target, learn_rate):\n",
    "        \"\"\"Train one batch.\"\"\"\n",
    "        gradient = self.forward(x) - target  # Assumes quadratic loss function\n",
    "        self.backward(gradient)  # Backprop\n",
    "        \n",
    "        # Update weights in all layers\n",
    "        for layer in self.layers:\n",
    "            layer.update(learn_rate)\n",
    "        "
   ]
  },
  {
   "cell_type": "code",
   "execution_count": 105,
   "metadata": {},
   "outputs": [
    {
     "data": {
      "text/plain": [
       "'ok'"
      ]
     },
     "execution_count": 105,
     "metadata": {},
     "output_type": "execute_result"
    }
   ],
   "source": [
    "# Test Code\n",
    "_test_net = FeedForwardNet([LinearLayer(4, 10, seed=0),\n",
    "                      ReLULayer(),\n",
    "                      LinearLayer(10, 3, seed=1),\n",
    "                      SoftmaxLayer(),\n",
    "                     ])\n",
    "np.testing.assert_array_almost_equal(_test_net.forward([1,2,3,4]), [0.27760362, 0.64002456, 0.08237182])\n",
    "\"ok\""
   ]
  },
  {
   "cell_type": "markdown",
   "metadata": {},
   "source": [
    "## Question A2 - Autoencoder on MNIST\n",
    "For more information about MNIST, refer to the assignment PDF.\n",
    "\n",
    "The next cell will download the dataset and show some examples images."
   ]
  },
  {
   "cell_type": "markdown",
   "metadata": {},
   "source": [
    "https://gist.github.com/AFAgarap/4f8a8d8edf352271fa06d85ba0361f26\n"
   ]
  },
  {
   "cell_type": "code",
   "execution_count": 106,
   "metadata": {},
   "outputs": [
    {
     "data": {
      "image/png": "[encoded data removed]",
      "text/plain": [
       "<Figure size 1152x144 with 10 Axes>"
      ]
     },
     "metadata": {
      "needs_background": "light"
     },
     "output_type": "display_data"
    }
   ],
   "source": [
    "import torch\n",
    "import torchvision\n",
    "from torchvision import transforms\n",
    "\n",
    "# Load MNIST dataset\n",
    "mnist = torchvision.datasets.MNIST(root='data/', download=True, transform=transforms.ToTensor())\n",
    "mnist_test = np.array([x.numpy() for x, y in torchvision.datasets.MNIST(root='data/', train=False, transform=transforms.ToTensor())]).reshape(-1, 28, 28)\n",
    "data_loader = torch.utils.data.DataLoader(mnist, batch_size=32, shuffle=True)\n",
    "\n",
    "# Show examples\n",
    "plt.figure(figsize=(16,2))\n",
    "for i in range(10):\n",
    "    plt.subplot(1, 10, i+1)\n",
    "    \n",
    "    # Choose first example with the corresponding digit\n",
    "    example = next(x for x, y in mnist if y == i).reshape(28, 28)\n",
    "    plt.imshow(example, cmap=\"gray\", vmin=0, vmax=1)\n",
    "    plt.axis(\"off\")\n",
    "plt.tight_layout()"
   ]
  },
  {
   "cell_type": "markdown",
   "metadata": {},
   "source": [
    "### a) Build the Autoencoder"
   ]
  },
  {
   "cell_type": "code",
   "execution_count": 107,
   "metadata": {},
   "outputs": [],
   "source": [
    "# TODO Build autoencoder\n",
    "# autoencoder = FeedForwardNet(...\n",
    "\n",
    "autoencoder = FeedForwardNet([LinearLayer(784, 256),\n",
    "                           ReLULayer(),\n",
    "                           LinearLayer(256, 64),\n",
    "                           ReLULayer(),\n",
    "                           LinearLayer(64, 16),\n",
    "                           LinearLayer(16, 64),\n",
    "                           ReLULayer(),\n",
    "                           LinearLayer(64,256),\n",
    "                           ReLULayer(),\n",
    "                           LinearLayer(256, 784),\n",
    "                           ])"
   ]
  },
  {
   "cell_type": "code",
   "execution_count": 108,
   "metadata": {},
   "outputs": [
    {
     "data": {
      "text/plain": [
       "'ok'"
      ]
     },
     "execution_count": 108,
     "metadata": {},
     "output_type": "execute_result"
    }
   ],
   "source": [
    "# Test Code\n",
    "assert all(type(l) in [LinearLayer, ReLULayer] for l in autoencoder.layers), \"Only use Linear and ReLu layers\"\n",
    "assert autoencoder.layers[0].w.shape[0] == 784, \"Wrong size of input\"\n",
    "assert autoencoder.layers[-1].w.shape[1] == 784, \"Wrong size of output\"\n",
    "assert min(l.w.shape[0] for l in autoencoder.layers if type(l) == LinearLayer) == 16, \"Wrong size of the bottleneck\"\n",
    "\n",
    "\"ok\""
   ]
  },
  {
   "cell_type": "markdown",
   "metadata": {},
   "source": [
    "### b) Train the Autoencoder\n",
    "\n",
    "The next step is to train the autoencoder on the MNIST dataset via minibatch gradient descend.\n",
    "\n",
    "Implement the training of a batch. \n",
    "The incoming batches of images have a shape of (batch_size, 28, 28). To process them in a linear layer, you first need to reshape them to (batch_size, 28 * 28).\n",
    "Then, use the `train` method of the implemented `FeedForwardNetwork` to train the batch."
   ]
  },
  {
   "cell_type": "code",
   "execution_count": 109,
   "metadata": {
    "scrolled": true
   },
   "outputs": [
    {
     "name": "stderr",
     "output_type": "stream",
     "text": [
      "Loss 10.16/10.13: 100%|██████████| 25/25 [25:50<00:00, 62.01s/it]\n"
     ]
    },
    {
     "data": {
      "image/png": "[encoded data removed]",
      "text/plain": [
       "<Figure size 432x288 with 1 Axes>"
      ]
     },
     "metadata": {
      "needs_background": "light"
     },
     "output_type": "display_data"
    }
   ],
   "source": [
    "#Hyperparameter\n",
    "epochs = 25\n",
    "learn_rate = 0.0008\n",
    "#batch_size noch anpassen\n",
    "\n",
    "\n",
    "losses = np.empty((epochs, 2))        #initialisiert (2,2) array\n",
    "with tqdm(range(epochs)) as pbar:     # stellt nur den Ladebalken dar\n",
    "    for epoch in pbar:\n",
    "        running_loss = 0.0\n",
    "        for batch, _ in data_loader:\n",
    "            # ********************\n",
    "            # TODO Reshape and train batch\n",
    "            # batch =\n",
    "            \n",
    "            batch = batch.flatten(start_dim=1)     #flattet den Tensor und mach aus 28,28 28*28\n",
    "            batch = batch.numpy()[:,:]             #wandelt tensor in numpy array um und behält die Form bei\n",
    "\n",
    "            autoencoder.train(batch, batch, learn_rate)   #Zielwert ist der Batch, da der Autoencoder diese Bilder wiedergeben soll\n",
    "\n",
    "            # ********************\n",
    "\n",
    "            running_loss += np.sum((autoencoder.layers[-1].output - batch)**2)\n",
    "        \n",
    "        # Log losses and update progress bar\n",
    "        train_loss = running_loss/len(mnist)\n",
    "        validation_loss = np.sum(np.mean((autoencoder.forward(mnist_test.reshape(-1, 28*28))-mnist_test.reshape(-1, 28*28))**2, axis=0))\n",
    "        losses[epoch] = [train_loss, validation_loss]\n",
    "        pbar.set_description(f\"Loss {train_loss:.02f}/{validation_loss:.02f}\")\n",
    "\n",
    "# Save model\n",
    "with open(\"solution/a2b.pickle\", \"wb\") as f:\n",
    "    pickle.dump(autoencoder, f)\n",
    "\n",
    "# Visualize losses\n",
    "losses = np.array(losses)\n",
    "plt.plot(np.arange(len(losses)), losses[:,0], label=\"train\")\n",
    "plt.plot(np.arange(len(losses)), losses[:,1], label=\"validation\")\n",
    "plt.legend()\n",
    "plt.xlabel(\"epoch\")\n",
    "plt.ylabel(\"MSE\")\n",
    "plt.tight_layout()\n",
    "plt.savefig(\"solution/a2b-train.png\")"
   ]
  },
  {
   "cell_type": "code",
   "execution_count": 110,
   "metadata": {},
   "outputs": [
    {
     "data": {
      "image/png": "[encoded data removed]",
      "text/plain": [
       "<Figure size 864x432 with 32 Axes>"
      ]
     },
     "metadata": {
      "needs_background": "light"
     },
     "output_type": "display_data"
    }
   ],
   "source": [
    "# Show reconstruction\n",
    "plt.figure(figsize=(12,6))\n",
    "for i in range(16):\n",
    "    # Show image\n",
    "    plt.subplot(4,8,2*i+1)\n",
    "    plt.imshow(mnist[i][0].reshape((28,28)), cmap=\"gray\")\n",
    "    plt.axis(\"off\")\n",
    "\n",
    "    # Show reconstruction\n",
    "    plt.subplot(4,8, 2*i+2)\n",
    "    plt.imshow(autoencoder.forward(mnist[i][0].reshape(28*28)).reshape(28,28), cmap=\"gray\", vmin=0, vmax=1)\n",
    "    plt.axis(\"off\")\n",
    "plt.tight_layout()\n",
    "plt.savefig(\"solution/a2b-rec.png\")"
   ]
  },
  {
   "cell_type": "markdown",
   "metadata": {},
   "source": [
    "### c) Interpolation"
   ]
  },
  {
   "cell_type": "code",
   "execution_count": 115,
   "metadata": {},
   "outputs": [
    {
     "data": {
      "image/png": "[encoded data removed]",
      "text/plain": [
       "<Figure size 1152x144 with 10 Axes>"
      ]
     },
     "metadata": {
      "needs_background": "light"
     },
     "output_type": "display_data"
    }
   ],
   "source": [
    "# ********************\n",
    "# TODO Split the autoencoder at the bottleneck into encoder and decoder \n",
    "# encoder = FeedForwardNet(autoencoder.layers[:3])\n",
    "# decoder = FeedForwardNet(autoencoder.layers[3:])\n",
    "\n",
    "encoder = FeedForwardNet(autoencoder.layers[:5])\n",
    "decoder = FeedForwardNet(autoencoder.layers[5:])\n",
    "\n",
    "# ********************\n",
    "\n",
    "#  Choose two images \n",
    "image_a = mnist[10][0]\n",
    "image_b = mnist[4][0]\n",
    "\n",
    "#in Numpy array umwandeln\n",
    "image_a = image_a.numpy()\n",
    "image_b = image_b.numpy()\n",
    "\n",
    "# Compute their latent representations\n",
    "latent_a = encoder.forward(image_a.reshape(28*28))\n",
    "latent_b = encoder.forward(image_b.reshape(28*28))\n",
    "\n",
    "steps=10\n",
    "plt.figure(figsize=(16,2))\n",
    "for i, f in enumerate(np.linspace(0, 1, steps)):\n",
    "    plt.subplot(1, steps, i+1)\n",
    "    \n",
    "    # ********************\n",
    "    # TODO Interpolate between latent_a and latent_b with the mixing factor f\n",
    "    # latent =\n",
    "\n",
    "    latent = (1-f)*latent_a+f*latent_b\n",
    "\n",
    "    # ********************\n",
    "    \n",
    "    plt.imshow(decoder.forward(latent).reshape(28, 28), cmap=\"gray\", vmin=0, vmax=1)\n",
    "    plt.axis(\"off\")\n",
    "plt.tight_layout()\n",
    "plt.savefig(\"solution/a2c.png\")"
   ]
  },
  {
   "cell_type": "markdown",
   "metadata": {},
   "source": [
    "### d) Latent space sampling"
   ]
  },
  {
   "cell_type": "code",
   "execution_count": 116,
   "metadata": {},
   "outputs": [
    {
     "data": {
      "image/png": "[encoded data removed]",
      "text/plain": [
       "<Figure size 1152x144 with 10 Axes>"
      ]
     },
     "metadata": {
      "needs_background": "light"
     },
     "output_type": "display_data"
    }
   ],
   "source": [
    "# Compute mean and std of latent states\n",
    "latent_space = encoder.forward(mnist_test.reshape(-1, 28*28))\n",
    "latent_space_mean = np.mean(latent_space, axis=0)\n",
    "latent_space_std = np.std(latent_space, axis=0)\n",
    "\n",
    "# Sample from latent distribution\n",
    "plt.figure(figsize=(16,2))\n",
    "for i, f in enumerate(np.linspace(0,1,steps)):\n",
    "    plt.subplot(1, steps, i+1)\n",
    "    \n",
    "    # ********************\n",
    "    # TODO Sample from the normal distribution with latent_space_mean and latent_space_std\n",
    "    # latent =\n",
    "\n",
    "    latent = np.random.normal(loc = latent_space_mean, scale = latent_space_std)\n",
    "    \n",
    "    # ********************\n",
    "    \n",
    "    plt.imshow(decoder.forward(latent).reshape(28, 28), cmap=\"gray\", vmin=0, vmax=1)\n",
    "    plt.axis(\"off\")\n",
    "plt.tight_layout()\n",
    "plt.savefig(\"solution/a2d.png\")"
   ]
  }
 ],
 "metadata": {
  "kernelspec": {
   "display_name": "Python 3.8.10 64-bit",
   "language": "python",
   "name": "python3"
  },
  "language_info": {
   "codemirror_mode": {
    "name": "ipython",
    "version": 3
   },
   "file_extension": ".py",
   "mimetype": "text/x-python",
   "name": "python",
   "nbconvert_exporter": "python",
   "pygments_lexer": "ipython3",
   "version": "3.8.10"
  },
  "vscode": {
   "interpreter": {
    "hash": "916dbcbb3f70747c44a77c7bcd40155683ae19c65e1c03b4aa3499c5328201f1"
   }
  }
 },
 "nbformat": 4,
 "nbformat_minor": 4
}
